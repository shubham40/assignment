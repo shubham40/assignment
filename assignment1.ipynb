{
  "nbformat": 4,
  "nbformat_minor": 0,
  "metadata": {
    "colab": {
      "name": "Copy of SHUBHAM KUMAR - Linspace.ipynb",
      "provenance": []
    },
    "kernelspec": {
      "name": "python3",
      "display_name": "Python 3"
    }
  },
  "cells": [
    {
      "cell_type": "code",
      "metadata": {
        "id": "RHHOcSNR9ach",
        "colab_type": "code",
        "outputId": "bc0badc8-1008-49ce-b3cc-1c00fcbc07bd",
        "colab": {
          "base_uri": "https://localhost:8080/",
          "height": 34
        }
      },
      "source": [
        "import numpy as np\n",
        "def barabar(low,up,upto):\n",
        "    array = []\n",
        "    step = (up - low) / float(upto-1)\n",
        "    for i in range(upto):\n",
        "        array.append(low)\n",
        "        low = low + step\n",
        "    return array\n",
        "a=barabar(1,10,3) \n",
        "a\n",
        "\n"
      ],
      "execution_count": 0,
      "outputs": [
        {
          "output_type": "execute_result",
          "data": {
            "text/plain": [
              "[1, 5.5, 10.0]"
            ]
          },
          "metadata": {
            "tags": []
          },
          "execution_count": 5
        }
      ]
    }
  ]
}